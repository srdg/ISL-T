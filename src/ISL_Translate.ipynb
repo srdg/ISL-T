{
  "nbformat": 4,
  "nbformat_minor": 0,
  "metadata": {
    "colab": {
      "name": "ISL Translate.ipynb",
      "provenance": [],
      "collapsed_sections": [],
      "authorship_tag": "ABX9TyMGIohPRNG0NpzPvZ3NNDoa",
      "include_colab_link": true
    },
    "kernelspec": {
      "name": "python3",
      "display_name": "Python 3"
    },
    "language_info": {
      "name": "python"
    }
  },
  "cells": [
    {
      "cell_type": "markdown",
      "metadata": {
        "id": "view-in-github",
        "colab_type": "text"
      },
      "source": [
        "<a href=\"https://colab.research.google.com/github/srdg/ISL-T/blob/main/src/ISL_Translate.ipynb\" target=\"_parent\"><img src=\"https://colab.research.google.com/assets/colab-badge.svg\" alt=\"Open In Colab\"/></a>"
      ]
    },
    {
      "cell_type": "code",
      "metadata": {
        "colab": {
          "base_uri": "https://localhost:8080/"
        },
        "id": "0Be_3AwMpoXj",
        "outputId": "864504e4-ab0e-415a-dfca-e4af121c09dd"
      },
      "source": [
        "!lsb_release -a"
      ],
      "execution_count": null,
      "outputs": [
        {
          "output_type": "stream",
          "text": [
            "No LSB modules are available.\n",
            "Distributor ID:\tUbuntu\n",
            "Description:\tUbuntu 18.04.5 LTS\n",
            "Release:\t18.04\n",
            "Codename:\tbionic\n"
          ],
          "name": "stdout"
        }
      ]
    },
    {
      "cell_type": "code",
      "metadata": {
        "id": "33aJT5nep12a"
      },
      "source": [
        "import os\n",
        "from os.path import exists, join, basename, splitext\n",
        "\n",
        "git_repo_url = 'https://github.com/CMU-Perceptual-Computing-Lab/openpose.git'\n",
        "project_name = splitext(basename(git_repo_url))[0]\n",
        "\n",
        "if 1 or not exists(project_name):\n",
        "  !rm -rf openpose\n",
        "  # see: https://github.com/CMU-Perceptual-Computing-Lab/openpose/issues/949\n",
        "\n",
        "  print(\"install new CMake because of CUDA10\")\n",
        "  if not exists('cmake-3.13.0-Linux-x86_64.tar.gz'):\n",
        "    !wget -q https://cmake.org/files/v3.13/cmake-3.13.0-Linux-x86_64.tar.gz\n",
        "  !tar xfz cmake-3.13.0-Linux-x86_64.tar.gz --strip-components=1 -C /usr/local\n",
        "\n",
        "  print(\"clone openpose\")\n",
        "  !git clone -q --depth 1 $git_repo_url\n",
        "  print(\"CMakelist.txt's caffe fix\")\n",
        "  !sed -i 's/execute_process(COMMAND git checkout master WORKING_DIRECTORY ${CMAKE_SOURCE_DIR}\\/3rdparty\\/caffe)/execute_process(COMMAND git checkout f019d0dfe86f49d1140961f8c7dec22130c83154 WORKING_DIRECTORY ${CMAKE_SOURCE_DIR}\\/3rdparty\\/caffe)/g' openpose/CMakeLists.txt\n",
        "  print(\"install system dependencies\")\n",
        "  !apt-get -qq install -y libatlas-base-dev libprotobuf-dev libleveldb-dev libsnappy-dev libhdf5-serial-dev protobuf-compiler libgflags-dev libgoogle-glog-dev liblmdb-dev opencl-headers ocl-icd-opencl-dev libviennacl-dev\n",
        "  print(\"build openpose\")\n",
        "  !cd openpose && rm -rf build || true && mkdir build && cd build && cmake .. && make -j`nproc`\n"
      ],
      "execution_count": null,
      "outputs": []
    },
    {
      "cell_type": "code",
      "metadata": {
        "id": "gF2E3gGxNP5r"
      },
      "source": [
        "from IPython.display import YouTubeVideo\n",
        "YOUTUBE_ID = 'gFyDUuy1_88'\n",
        "YouTubeVideo(YOUTUBE_ID)"
      ],
      "execution_count": null,
      "outputs": []
    },
    {
      "cell_type": "code",
      "metadata": {
        "id": "aoc8JipNN5xZ"
      },
      "source": [
        "# install youtube-dl\n",
        "!pip install youtube-dl\n",
        "# download the youtube with the given ID\n",
        "!youtube-dl -f 'bestvideo[ext=mp4]' --output \"youtube.%(ext)s\" \\\n",
        "https://www.youtube.com/watch?v=$YOUTUBE_ID\n",
        "# cut the first 10 seconds\n",
        "!ffmpeg -y -loglevel info -i youtube.mp4 -t 10 video.mp4\n",
        "# detect poses on the these 10 seconds\n",
        "!rm openpose.avi\n",
        "!cd openpose && ./build/examples/openpose/openpose.bin --video ../video.mp4 \\\n",
        "--write_json ./output/ --display 0  --write_video ../openpose.avi -- face --hands\n",
        "# convert the result into MP4\n",
        "!ffmpeg -y -loglevel info -i openpose.avi output.mp4"
      ],
      "execution_count": null,
      "outputs": []
    },
    {
      "cell_type": "code",
      "metadata": {
        "id": "KBmxXYLLOANT"
      },
      "source": [
        "def show_local_mp4_video(file_name, width=640, height=480):\n",
        "  import io\n",
        "  import base64\n",
        "  from IPython.display import HTML\n",
        "  video_encoded = base64.b64encode(io.open(file_name, 'rb').read())\n",
        "  return HTML(data='''<video width=\"{0}\" height=\"{1}\" alt=\"test\" controls>\n",
        "                        <source src=\"data:video/mp4;base64,{2}\" type=\"video/mp4\" />\n",
        "                      </video>'''.format(width, height, video_encoded.decode('ascii')))\n",
        "\n",
        "show_local_mp4_video('output.mp4', width=560, height=340)"
      ],
      "execution_count": null,
      "outputs": []
    },
    {
      "cell_type": "code",
      "metadata": {
        "id": "wskeVamhjukZ"
      },
      "source": [
        "# cut the first 10 seconds\n",
        "!ffmpeg -y -loglevel info -i loud/MVI_5177.MOV -t 10 video_loud.mp4\n",
        "!rm openpose.avi\n",
        "!cd openpose && ./build/examples/openpose/openpose.bin --video ../video_loud.mp4 \\\n",
        "--write_json ./output/ --display 0  --write_video ../openpose.avi -- face --hands\n",
        "# convert the result into MP4\n",
        "!ffmpeg -y -loglevel info -i openpose.avi output_loud.mp4"
      ],
      "execution_count": null,
      "outputs": []
    },
    {
      "cell_type": "code",
      "metadata": {
        "id": "JWKM7kzKlB2k"
      },
      "source": [
        "show_local_mp4_video('output_loud.mp4', width=560, height=340)"
      ],
      "execution_count": null,
      "outputs": []
    },
    {
      "cell_type": "code",
      "metadata": {
        "id": "QVolAO3alPa8"
      },
      "source": [
        "# cut the first 10 seconds\n",
        "!ffmpeg -y -loglevel info -i loud/MVI_5178.MOV video_loud_2.mp4\n",
        "!rm openpose.avi\n",
        "!cd openpose && ./build/examples/openpose/openpose.bin --video ../video_loud_2.mp4 \\\n",
        "--write_json ./output/ --display 0  --write_video ../openpose.avi -- face --hands\n",
        "# convert the result into MP4\n",
        "!ffmpeg -y -loglevel info -i openpose.avi output_loud_2.mp4"
      ],
      "execution_count": null,
      "outputs": []
    },
    {
      "cell_type": "code",
      "metadata": {
        "id": "U5Onmo5Cl3ae"
      },
      "source": [
        "show_local_mp4_video('output_loud_2.mp4', width=560, height=340)"
      ],
      "execution_count": null,
      "outputs": []
    },
    {
      "cell_type": "code",
      "metadata": {
        "id": "jyqNdIi7nkD7"
      },
      "source": [
        "!pip install youtube-dl\n",
        "\n",
        "!wget -O actor_1.mp4 https://media.signbsl.com/videos/asl/startasl/mp4/actor.mp4\n",
        "!wget -O actor_2.mp4 https://www.handspeak.com/word/a/actor.mp4\n",
        "!youtube-dl https://youtu.be/ZaxcUQkJ2a4 --output actor_3.mp4\n",
        "!youtube-dl https://youtu.be/aYbsN9GG3kY --output actor_4.mp4\n"
      ],
      "execution_count": null,
      "outputs": []
    },
    {
      "cell_type": "code",
      "metadata": {
        "colab": {
          "base_uri": "https://localhost:8080/"
        },
        "id": "I5EAtnthonnl",
        "outputId": "69e66476-1481-4ee7-ce83-94e76bb994ef"
      },
      "source": [
        "!wget https://zenodo.org/record/4010759/files/Adjectives_1of8.zip && unzip -q *.zip "
      ],
      "execution_count": 1,
      "outputs": [
        {
          "output_type": "stream",
          "text": [
            "--2021-04-01 14:26:37--  https://zenodo.org/record/4010759/files/Adjectives_1of8.zip\n",
            "Resolving zenodo.org (zenodo.org)... 137.138.76.77\n",
            "Connecting to zenodo.org (zenodo.org)|137.138.76.77|:443... connected.\n",
            "HTTP request sent, awaiting response... 200 OK\n",
            "Length: 1303983457 (1.2G) [application/octet-stream]\n",
            "Saving to: ‘Adjectives_1of8.zip’\n",
            "\n",
            "Adjectives_1of8.zip 100%[===================>]   1.21G  6.07MB/s    in 3m 28s  \n",
            "\n",
            "2021-04-01 14:30:37 (5.97 MB/s) - ‘Adjectives_1of8.zip’ saved [1303983457/1303983457]\n",
            "\n"
          ],
          "name": "stdout"
        }
      ]
    },
    {
      "cell_type": "code",
      "metadata": {
        "id": "2nN6ethIqOcA"
      },
      "source": [
        "%cd /content/\n",
        "!pwd\n",
        "%cd \"Adjectives/3. happy\"\n",
        "!for i in *.MOV; do ffmpeg -y -loglevel error -i \"$i\" \"${i%.*}.mp4\"; done\n",
        "!rm *.MOV\n",
        "!zip -q -r happy.zip *.mp4 && mv happy.zip /content/ \n",
        "%cd ../..\n",
        "!pwd"
      ],
      "execution_count": null,
      "outputs": []
    }
  ]
}